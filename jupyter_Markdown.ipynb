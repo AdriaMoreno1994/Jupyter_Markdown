{
 "cells": [
  {
   "cell_type": "markdown",
   "id": "104f77d8",
   "metadata": {},
   "source": [
    "![image](data:image/jpeg;base64,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)"
   ]
  },
  {
   "cell_type": "markdown",
   "id": "a51f3375",
   "metadata": {},
   "source": [
    "# <center>  *Hello* ~~Jupyter~~ *Word!*"
   ]
  },
  {
   "cell_type": "markdown",
   "id": "88f4a7b4",
   "metadata": {},
   "source": [
    " We’re going to see a fews basic structures in ***python*** to turn from 0 to hero:\n",
    "    \n",
    " \n",
    "    \n",
    "    \n",
    "    \n",
    "    \n",
    "    "
   ]
  },
  {
   "cell_type": "markdown",
   "id": "c087df73",
   "metadata": {},
   "source": [
    "## Basic DataTypes:\n",
    "\n",
    "* Integers\n",
    "\n",
    "* Floats\n",
    "\n",
    "* Strings\n",
    "\n",
    "* booleans\n",
    "\n"
   ]
  },
  {
   "cell_type": "markdown",
   "metadata": {},
   "source": [
    "### Basic operations:\n",
    "\n",
    "1. *Initialize*:\n"
   ]
  },
  {
   "cell_type": "code",
   "execution_count": 12,
   "metadata": {},
   "outputs": [],
   "source": [
    "a = 3 # integer\n",
    "\n",
    "b = 3.14 # float\n",
    "\n",
    "myString = \"hello word\" #string\n",
    "\n",
    "myBool = True #boolean"
   ]
  },
  {
   "cell_type": "markdown",
   "metadata": {},
   "source": [
    "2. *Casting*:\n"
   ]
  },
  {
   "cell_type": "code",
   "execution_count": 11,
   "metadata": {},
   "outputs": [
    {
     "name": "stdout",
     "output_type": "stream",
     "text": [
      "3.0\n",
      "3\n",
      "True\n",
      "1\n"
     ]
    }
   ],
   "source": [
    "x = float(a)\n",
    "y = int(b)\n",
    "z =str(myBool)\n",
    "j = int(myBool)\n",
    "\n",
    "print(x)\n",
    "print(y)\n",
    "print(z)\n",
    "print(j)"
   ]
  },
  {
   "cell_type": "markdown",
   "metadata": {},
   "source": [
    "3. *Basic mathematical operations*:"
   ]
  },
  {
   "cell_type": "code",
   "execution_count": 35,
   "metadata": {},
   "outputs": [
    {
     "name": "stdout",
     "output_type": "stream",
     "text": [
      "a + b =6.14\n",
      "b - a =0.14\n",
      "a x 3 = 9\n",
      "6 / b=  1.910828025477707\n"
     ]
    }
   ],
   "source": [
    "print(\"a + b =%0.2f\"%(a+b)) # addition\n",
    "print(\"b - a =%0.2f\"%(b-a)) # substraction\n",
    "print(\"a x 3 =\",a*3)        # multiplication\n",
    "print(\"6 / b= \",6/b)        # division\n"
   ]
  },
  {
   "cell_type": "markdown",
   "metadata": {},
   "source": [
    "4. *String methods*"
   ]
  },
  {
   "cell_type": "code",
   "execution_count": 53,
   "metadata": {},
   "outputs": [
    {
     "name": "stdout",
     "output_type": "stream",
     "text": [
      "We loved with a love that was more than love.\n",
      "number of items: 45\n",
      "True\n",
      "WE LOVED WITH A LOVE THAT WAS MORE THAN LOVE.\n",
      "number of times that word love appears 3\n",
      "We hated with a hate that was more than hate.\n"
     ]
    }
   ],
   "source": [
    "poe =\"We loved with a love that was more than love.\"\n",
    "print(poe)\n",
    "\n",
    "print(\"number of items:\",len(poe))\n",
    "\n",
    "print(\"o\"in poe) # check if  a char is in a string\n",
    "\n",
    "print(poe.upper()) #upperCase\n",
    "\n",
    "print(\"number of times that word love appears\",poe.count(\"love\")) #count specific value\n",
    "print(poe.replace(\"love\",\"hate\")) # replace specific char or group of chars"
   ]
  },
  {
   "cell_type": "markdown",
   "metadata": {},
   "source": [
    "5. *Booleans*"
   ]
  },
  {
   "cell_type": "code",
   "execution_count": 62,
   "metadata": {},
   "outputs": [
    {
     "name": "stdout",
     "output_type": "stream",
     "text": [
      "False\n",
      "True\n",
      "variable poe is a string\n",
      "is even\n"
     ]
    }
   ],
   "source": [
    "a = 5\n",
    "b = 10\n",
    "print(a>b) # return false a is not greater than b\n",
    "print(a<b) # return true a is  not greater than b\n",
    "if isinstance(poe,str): #  return true if an object is an instance of a class\n",
    "    print(\"variable poe is a string\")\n",
    "\n",
    "if b%2 is not myBool: # check if the result of the modulus is not equal to the value of myBool\n",
    "    print(\"is even\")"
   ]
  }
 ],
 "metadata": {
  "kernelspec": {
   "display_name": "Python 3",
   "language": "python",
   "name": "python3"
  },
  "language_info": {
   "codemirror_mode": {
    "name": "ipython",
    "version": 3
   },
   "file_extension": ".py",
   "mimetype": "text/x-python",
   "name": "python",
   "nbconvert_exporter": "python",
   "pygments_lexer": "ipython3",
   "version": "3.8.5"
  }
 },
 "nbformat": 4,
 "nbformat_minor": 5
}
